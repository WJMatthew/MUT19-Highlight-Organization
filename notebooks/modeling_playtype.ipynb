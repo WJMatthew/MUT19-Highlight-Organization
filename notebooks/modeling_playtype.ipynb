{
 "cells": [
  {
   "cell_type": "code",
   "execution_count": 12,
   "metadata": {
    "collapsed": true
   },
   "outputs": [],
   "source": [
    "import os\n",
    "import pandas as pd\n",
    "\n",
    "\n",
    "def construct_playtype_dataset():\n",
    "    filenames = []\n",
    "    for root, dirs, files in os.walk(\"saved_plays\", topdown=True):\n",
    "        if root is not 'neither':\n",
    "            for name in files:\n",
    "                filenames.append(os.path.join(root, name))\n",
    "\n",
    "\n",
    "    filenames = [f for f in filenames if 'DS_Store' not in f]\n",
    "    df = pd.DataFrame({'filename': filenames})\n",
    "\n",
    "    df['type'] = df['filename'].str.split('/').apply(lambda x: x[2])\n",
    "    df['side'] = df['filename'].str.split('/').apply(lambda x: x[1])\n",
    "\n",
    "    df['neither'] = df['filename'].apply(lambda x: 'neither' in x)*1\n",
    "    df = df[ df['neither'] == 0]\n",
    "    df.drop('neither', axis=1, inplace=True)\n",
    "    df.reset_index(drop=True, inplace=True)\n",
    "\n",
    "    df.to_csv('type_dataset.csv')"
   ]
  },
  {
   "cell_type": "code",
   "execution_count": null,
   "metadata": {},
   "outputs": [],
   "source": []
  },
  {
   "cell_type": "code",
   "execution_count": 4,
   "metadata": {},
   "outputs": [
    {
     "data": {
      "text/plain": [
       "pass    580\n",
       "run     263\n",
       "fake     35\n",
       "Name: type, dtype: int64"
      ]
     },
     "execution_count": 4,
     "metadata": {},
     "output_type": "execute_result"
    }
   ],
   "source": [
    "#df['type'].value_counts()"
   ]
  },
  {
   "cell_type": "code",
   "execution_count": null,
   "metadata": {
    "collapsed": true
   },
   "outputs": [],
   "source": []
  },
  {
   "cell_type": "code",
   "execution_count": 13,
   "metadata": {
    "collapsed": true
   },
   "outputs": [],
   "source": [
    "from torch.utils.data import Dataset\n",
    "import cv2 as cv\n",
    "\n",
    "# Make Dataset class\n",
    "label_map = {'pass': 0, 'run': 1, 'fake': 2}\n",
    "\n",
    "class PlayTypeDataset(Dataset):\n",
    "    \n",
    "    def __init__(self, csv_file, transform=None):\n",
    "        '''\n",
    "        '''\n",
    "        self.dataframe = pd.read_csv(csv_file, index_col=0)\n",
    "        self.transform = transform\n",
    "        self.size = (300,100)\n",
    "        \n",
    "    def __len__(self):\n",
    "        return len(self.dataframe)\n",
    "\n",
    "    def __getitem__(self, idx):\n",
    "        '''\n",
    "        '''\n",
    "        img_name = self.dataframe.iloc[idx, 0]\n",
    "        \n",
    "        image = cv.imread(img_name)\n",
    "        #image = cv.cvtColor(image, cv.COLOR_RGB2BGR)\n",
    "        image = cv.resize(image, self.size)\n",
    "\n",
    "        label = self.dataframe.iloc[idx, 1]\n",
    "\n",
    "        if self.transform:\n",
    "            image = self.transform(image)\n",
    "        \n",
    "        return (image, label_map[label])"
   ]
  },
  {
   "cell_type": "code",
   "execution_count": 7,
   "metadata": {
    "collapsed": true
   },
   "outputs": [],
   "source": [
    "from torch.utils.data.sampler import SubsetRandomSampler\n",
    "import torch\n",
    "import numpy as np\n",
    "\n",
    "validation_indices = []\n",
    "\n",
    "def get_training_and_validation_loaders(dataset, batch_size = 16, validation_split = .2):\n",
    "    \n",
    "    shuffle_dataset = True\n",
    "    random_seed = 8\n",
    "\n",
    "    # Creating data indices for training and validation splits:\n",
    "    dataset_size = len(dataset)\n",
    "    indices = list(range(dataset_size))\n",
    "    split = int(np.floor(validation_split * dataset_size))\n",
    "\n",
    "    if shuffle_dataset :\n",
    "        np.random.seed(random_seed)\n",
    "        np.random.shuffle(indices)\n",
    "        \n",
    "    train_indices, val_indices = indices[split:], indices[:split]\n",
    "\n",
    "    # Creating PT data samplers and loaders:\n",
    "    train_sampler = SubsetRandomSampler(train_indices)\n",
    "    valid_sampler = SubsetRandomSampler(val_indices)\n",
    "\n",
    "    train_loader = torch.utils.data.DataLoader(dataset, batch_size=batch_size, \n",
    "                                               sampler=train_sampler)\n",
    "    validation_loader = torch.utils.data.DataLoader(dataset, batch_size=batch_size,\n",
    "                                                    sampler=valid_sampler)\n",
    "    #\n",
    "    validation_indices = val_indices\n",
    "    \n",
    "    return train_loader, validation_loader"
   ]
  },
  {
   "cell_type": "code",
   "execution_count": 8,
   "metadata": {
    "collapsed": true
   },
   "outputs": [],
   "source": [
    "from torchvision import transforms\n",
    "\n",
    "trans = transforms.Compose([transforms.ToTensor(), \n",
    "                            transforms.Normalize((0.5,), (0.5,)),\n",
    "                           ])\n",
    "\n",
    "\n",
    "construct_playtype_dataset()\n",
    "\n",
    "dset = PlayTypeDataset('type_dataset.csv', trans)"
   ]
  },
  {
   "cell_type": "code",
   "execution_count": 9,
   "metadata": {},
   "outputs": [
    {
     "data": {
      "text/plain": [
       "torch.Size([3, 100, 300])"
      ]
     },
     "execution_count": 9,
     "metadata": {},
     "output_type": "execute_result"
    }
   ],
   "source": [
    "x, y = dset[0]\n",
    "x.shape"
   ]
  },
  {
   "cell_type": "code",
   "execution_count": null,
   "metadata": {
    "collapsed": true
   },
   "outputs": [],
   "source": []
  },
  {
   "cell_type": "code",
   "execution_count": 10,
   "metadata": {
    "collapsed": true
   },
   "outputs": [],
   "source": [
    "# Device configuration\n",
    "device = torch.device('cuda' if torch.cuda.is_available() else 'cpu')\n",
    "\n",
    "# \n",
    "train_loader, validation_loader = get_training_and_validation_loaders(dset, batch_size=15)"
   ]
  },
  {
   "cell_type": "code",
   "execution_count": 11,
   "metadata": {},
   "outputs": [
    {
     "data": {
      "text/plain": [
       "'#batch, labels = next(iter(train_loader))\\n\\n\\n\\nconv1 = nn.Conv2d(3, 16, kernel_size=5)\\nx = F.relu(F.max_pool2d(conv1(batch), 2))\\nprint(x.shape)\\n# torch.Size([15, 16, 48, 148])\\n\\nconv2 = nn.Conv2d(16, 32, kernel_size=5)\\nx = F.relu(F.max_pool2d(conv2(x), 2))\\nprint(x.shape)\\n# torch.Size([15, 32, 22, 72])\\n\\nconv3 = nn.Conv2d(32, 64, kernel_size=5)\\nx = F.relu(F.max_pool2d(conv3(x), 2))\\nprint(x.shape)\\n# torch.Size([15, 64, 9, 34])\\n\\nx = x.view(15, -1)\\n# torch.Size([15, 19584])\\n\\nfc1 = nn.Linear(19584, 100)\\nx = F.relu(fc1(x))\\n# torch.Size([15, 100])\\n\\nx.view(15, -1).shape'"
      ]
     },
     "execution_count": 11,
     "metadata": {},
     "output_type": "execute_result"
    }
   ],
   "source": [
    "'''#batch, labels = next(iter(train_loader))\n",
    "\n",
    "\n",
    "\n",
    "conv1 = nn.Conv2d(3, 16, kernel_size=5)\n",
    "x = F.relu(F.max_pool2d(conv1(batch), 2))\n",
    "print(x.shape)\n",
    "# torch.Size([15, 16, 48, 148])\n",
    "\n",
    "conv2 = nn.Conv2d(16, 32, kernel_size=5)\n",
    "x = F.relu(F.max_pool2d(conv2(x), 2))\n",
    "print(x.shape)\n",
    "# torch.Size([15, 32, 22, 72])\n",
    "\n",
    "conv3 = nn.Conv2d(32, 64, kernel_size=5)\n",
    "x = F.relu(F.max_pool2d(conv3(x), 2))\n",
    "print(x.shape)\n",
    "# torch.Size([15, 64, 9, 34])\n",
    "\n",
    "x = x.view(15, -1)\n",
    "# torch.Size([15, 19584])\n",
    "\n",
    "fc1 = nn.Linear(19584, 100)\n",
    "x = F.relu(fc1(x))\n",
    "# torch.Size([15, 100])\n",
    "\n",
    "x.view(15, -1).shape'''"
   ]
  },
  {
   "cell_type": "code",
   "execution_count": null,
   "metadata": {},
   "outputs": [],
   "source": []
  },
  {
   "cell_type": "code",
   "execution_count": 14,
   "metadata": {
    "collapsed": true
   },
   "outputs": [],
   "source": [
    "import torch.nn as nn\n",
    "import torch.nn.functional as F\n",
    "\n",
    "class Net(nn.Module):\n",
    "    def __init__(self):\n",
    "        super(Net, self).__init__()\n",
    "        self.conv1 = nn.Conv2d(3, 16, kernel_size=5)\n",
    "        self.conv2 = nn.Conv2d(16, 32, kernel_size=5)\n",
    "        #self.conv2_drop = nn.Dropout2d()\n",
    "        self.conv3 = nn.Conv2d(32, 64, kernel_size=5)\n",
    "        self.fc1 = nn.Linear(19584, 100)\n",
    "        self.fc2 = nn.Linear(100, 50)\n",
    "        self.fc3 = nn.Linear(50, 3)\n",
    "\n",
    "    def forward(self, x):\n",
    "        x = F.relu(F.max_pool2d(self.conv1(x), 2))\n",
    "        x = F.relu(F.max_pool2d(self.conv2_drop(self.conv2(x)), 2))\n",
    "        x = F.relu(F.max_pool2d(self.conv3(x), 2))\n",
    "        x = x.view(-1, 19584)\n",
    "        x = F.relu(self.fc1(x))\n",
    "        x = F.dropout(x, training=self.training)\n",
    "        x = F.relu(self.fc2(x))\n",
    "        x = self.fc3(x)\n",
    "        return F.log_softmax(x, dim=1)\n",
    "\n",
    "    def name(self):\n",
    "        return \"playtype_net_may20\""
   ]
  },
  {
   "cell_type": "code",
   "execution_count": null,
   "metadata": {
    "collapsed": true
   },
   "outputs": [],
   "source": []
  },
  {
   "cell_type": "code",
   "execution_count": 15,
   "metadata": {},
   "outputs": [
    {
     "name": "stdout",
     "output_type": "stream",
     "text": [
      "Epoch [1/10], Loss: 0.7851, Acc: 0.66\n",
      "Epoch [2/10], Loss: 0.7334, Acc: 0.66\n",
      "Epoch [3/10], Loss: 0.7121, Acc: 0.66\n",
      "Epoch [4/10], Loss: 0.6829, Acc: 0.66\n",
      "Epoch [5/10], Loss: 0.647, Acc: 0.66\n",
      "Epoch [6/10], Loss: 0.6437, Acc: 0.66\n",
      "Epoch [7/10], Loss: 0.6285, Acc: 0.67\n",
      "Epoch [8/10], Loss: 0.6443, Acc: 0.66\n",
      "Epoch [9/10], Loss: 0.6129, Acc: 0.66\n",
      "Epoch [10/10], Loss: 0.5224, Acc: 0.75\n"
     ]
    }
   ],
   "source": [
    "# HPs\n",
    "lr = 0.01 # 0.001 too small\n",
    "\n",
    "# Model\n",
    "model = Net().to(device)\n",
    "\n",
    "# Loss and optimizer\n",
    "criterion = nn.CrossEntropyLoss()\n",
    "optimizer = torch.optim.Adam(model.parameters(), lr=lr)\n",
    "#optimizer = torch.optim.SGD(model.parameters(), lr = lr, momentum=0.9)\n",
    "\n",
    "loss_list = []\n",
    "acc_list = []\n",
    "train_losses = []\n",
    "train_accuracies = []\n",
    "train_losses2 = []\n",
    "#\n",
    "num_epochs = 10\n",
    "\n",
    "for epoch in range(num_epochs):\n",
    "        \n",
    "    # Train:   \n",
    "    total = 0\n",
    "    correct = 0\n",
    "    trainlosses = []\n",
    "    \n",
    "    for batch_index, (images, labels) in enumerate(train_loader):\n",
    "        # Send to GPU (device)\n",
    "        images, labels = images.to(device), labels.to(device)\n",
    "        \n",
    "        # Forward pass\n",
    "        outputs = model(images.float())\n",
    "        \n",
    "        # Loss\n",
    "        loss = criterion(outputs, labels)\n",
    "\n",
    "        # Backward and optimize\n",
    "        optimizer.zero_grad()\n",
    "        loss.backward()\n",
    "        optimizer.step()\n",
    "        \n",
    "        trainlosses.append(loss.item())\n",
    "        \n",
    "        # Compute accuracy\n",
    "        _, argmax = torch.max(outputs, 1)\n",
    "        correct += (labels == argmax).sum().item() #.mean()\n",
    "        total += len(labels)\n",
    "        \n",
    "    train_losses.append( np.mean(trainlosses) )\n",
    "    train_accuracies.append( correct/total )\n",
    "    train_losses2.extend(trainlosses)\n",
    "                        \n",
    "    with torch.no_grad():\n",
    "        \n",
    "        losses = []\n",
    "        total = 0\n",
    "        correct = 0\n",
    "    \n",
    "        for images, labels in validation_loader:\n",
    "            # \n",
    "            images, labels = images.to(device), labels.to(device)\n",
    "            \n",
    "            # Forward pass\n",
    "            outputs = model(images.float())\n",
    "            \n",
    "            loss = criterion(outputs, labels)\n",
    "        \n",
    "            # Compute accuracy\n",
    "            _, argmax = torch.max(outputs, 1)\n",
    "            correct += (labels == argmax).sum().item() #.mean()\n",
    "            total += len(labels)\n",
    "            \n",
    "            losses.append(loss.item())\n",
    "    \n",
    "        acc = np.round(correct/total, 3)\n",
    "        loss = np.mean(losses)\n",
    "        \n",
    "        acc_list.append(acc)\n",
    "        loss_list.append(loss)\n",
    "\n",
    "        print(f'Epoch [{epoch+1}/{num_epochs}], Loss: {np.mean(losses):.4}, Acc: {correct/total:.2}')"
   ]
  },
  {
   "cell_type": "code",
   "execution_count": 16,
   "metadata": {},
   "outputs": [
    {
     "data": {
      "image/png": "[encoded data removed]",
      "text/plain": [
       "<Figure size 1080x360 with 1 Axes>"
      ]
     },
     "metadata": {},
     "output_type": "display_data"
    }
   ],
   "source": [
    "%matplotlib inline\n",
    "import matplotlib.pyplot as plt\n",
    "\n",
    "plt.subplots(figsize=(15,5))\n",
    "plt.plot(loss_list); # blue\n",
    "plt.plot(train_losses);\n",
    "plt.plot(acc_list); # orange\n",
    "plt.plot(train_accuracies);\n",
    "plt.title('Validation loss and accuracy over number of epochs');\n",
    "plt.xlabel('Number of epochs trained on');\n",
    "plt.ylabel('Cross Entropy Loss (and Accuracy)');\n",
    "plt.legend(['Validation Loss', 'Train Loss', 'Validation Accuracy', 'Train Accuracy'], loc='lower left');"
   ]
  },
  {
   "cell_type": "code",
   "execution_count": null,
   "metadata": {
    "collapsed": true
   },
   "outputs": [],
   "source": []
  },
  {
   "cell_type": "code",
   "execution_count": 17,
   "metadata": {},
   "outputs": [
    {
     "name": "stdout",
     "output_type": "stream",
     "text": [
      "Loss: 0.4851, Acc: 0.75\n"
     ]
    }
   ],
   "source": [
    "# Test\n",
    "model.eval()\n",
    "\n",
    "total = 0\n",
    "correct = 0\n",
    "testlosses = []\n",
    "correct_labels = []\n",
    "predictions = []\n",
    "\n",
    "with torch.no_grad():\n",
    "    \n",
    "    for batch_index, (images, labels) in enumerate(validation_loader):\n",
    "        # Send to GPU (device)\n",
    "        images, labels = images.to(device), labels.to(device)\n",
    "        \n",
    "        # Forward pass\n",
    "        outputs = model(images.float())\n",
    "        \n",
    "        # Loss\n",
    "        loss = criterion(outputs, labels)\n",
    "        \n",
    "        testlosses.append(loss.item())\n",
    "        \n",
    "        # Compute accuracy\n",
    "        _, argmax = torch.max(outputs, 1)\n",
    "        correct += (labels == argmax).sum().item() #.mean()\n",
    "        total += len(labels)\n",
    "        \n",
    "        correct_labels.extend(labels)\n",
    "        predictions.extend(argmax)\n",
    "        \n",
    "\n",
    "test_loss = np.mean(testlosses)\n",
    "accuracy = np.round(correct/total, 2)\n",
    "print(f'Loss: {test_loss:.4}, Acc: {accuracy:.2}')"
   ]
  },
  {
   "cell_type": "code",
   "execution_count": 18,
   "metadata": {},
   "outputs": [
    {
     "data": {
      "text/plain": [
       "array([[112,   2,   1],\n",
       "       [ 40,  16,   0],\n",
       "       [  0,   0,   4]])"
      ]
     },
     "execution_count": 18,
     "metadata": {},
     "output_type": "execute_result"
    }
   ],
   "source": [
    "from sklearn.metrics import confusion_matrix\n",
    "\n",
    "y_true = [label.item() for label in correct_labels]\n",
    "y_pred = [label.item() for label in predictions]\n",
    "\n",
    "cm = confusion_matrix(y_true, y_pred)\n",
    "\n",
    "cm"
   ]
  },
  {
   "cell_type": "code",
   "execution_count": 19,
   "metadata": {},
   "outputs": [
    {
     "data": {
      "image/png": "[encoded data removed]",
      "text/plain": [
       "<Figure size 576x432 with 2 Axes>"
      ]
     },
     "metadata": {},
     "output_type": "display_data"
    }
   ],
   "source": [
    "import seaborn as sns\n",
    "\n",
    "plt.subplots(figsize=(8,6));\n",
    "sns.heatmap(cm, annot=True, fmt='g', yticklabels=label_map.keys(),\n",
    "            xticklabels=label_map.keys());\n",
    "\n",
    "plt.xlabel('True');\n",
    "plt.ylabel('Predicted');"
   ]
  },
  {
   "cell_type": "code",
   "execution_count": 21,
   "metadata": {},
   "outputs": [
    {
     "name": "stdout",
     "output_type": "stream",
     "text": [
      "              precision    recall  f1-score   support\n",
      "\n",
      "        pass       0.74      0.97      0.84       115\n",
      "         run       0.89      0.29      0.43        56\n",
      "        fake       0.80      1.00      0.89         4\n",
      "\n",
      "   micro avg       0.75      0.75      0.75       175\n",
      "   macro avg       0.81      0.75      0.72       175\n",
      "weighted avg       0.79      0.75      0.71       175\n",
      "\n"
     ]
    }
   ],
   "source": [
    "from sklearn.metrics import classification_report\n",
    "\n",
    "target_names = label_map.keys()\n",
    "print(classification_report(y_true, y_pred, target_names=target_names))"
   ]
  },
  {
   "cell_type": "code",
   "execution_count": null,
   "metadata": {
    "collapsed": true
   },
   "outputs": [],
   "source": []
  }
 ],
 "metadata": {
  "kernelspec": {
   "display_name": "Python 3",
   "language": "python",
   "name": "python3"
  },
  "language_info": {
   "codemirror_mode": {
    "name": "ipython",
    "version": 3
   },
   "file_extension": ".py",
   "mimetype": "text/x-python",
   "name": "python",
   "nbconvert_exporter": "python",
   "pygments_lexer": "ipython3",
   "version": "3.6.3"
  }
 },
 "nbformat": 4,
 "nbformat_minor": 2
}
