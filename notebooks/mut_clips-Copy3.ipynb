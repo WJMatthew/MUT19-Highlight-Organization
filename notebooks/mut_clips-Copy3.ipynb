{
 "cells": [
  {
   "cell_type": "markdown",
   "metadata": {},
   "source": [
    "# Taking frames from video clips using CV2\n",
    "\n",
    "##### Matthew Johnson, 2019\n",
    "\n",
    "\n",
    "TODO:\n",
    "- Increase dataset size by x amount\n",
    "- Implement top cropping (for squads/non-squads classification)\n",
    "- Begin model building for ^ and pass/run/fake ( find more fakes for class balance )\n",
    "\n",
    "\n",
    "- Cropping:\n",
    "    - **Top piece**\n",
    "        - Classify as H2H, Squads, or Solo.\n",
    "        - maybe binary classification? squads/not squads\n",
    "    - Bottom piece \n",
    "        - Classify Touchdown, Interception OR maybe defensive/offensive?\n",
    "        - Classify as Verticals, WR Post, HB Pitch, Fake FG, etc.\n",
    "        \n"
   ]
  },
  {
   "cell_type": "code",
   "execution_count": 1,
   "metadata": {
    "collapsed": true
   },
   "outputs": [],
   "source": [
    "import cv2\n",
    "import os\n",
    "import pandas as pd\n",
    "RUN_INDEX=4\n",
    "\n",
    "save_path = 'saved_frames'\n",
    "user_save_path = 'users'\n",
    "\n",
    "folder_path = '/Volumes/PS4 MyPassp/PS4/SHARE/Video Clips/Madden NFL 19'\n",
    "\n",
    "for path in [save_path, user_save_path]:\n",
    "    if not os.path.isdir(path):\n",
    "        os.mkdir(path)\n",
    "\n",
    "\n",
    "def extract_final_frame(video_file, path=save_path):\n",
    "    \n",
    "    video_path = os.path.join(folder_path, video_file)\n",
    "\n",
    "    # Opens the Video file\n",
    "    cap= cv2.VideoCapture(video_path)\n",
    "    i=0\n",
    "    frame_holder = None\n",
    "    \n",
    "    while(cap.isOpened()):\n",
    "        ret, frame = cap.read()\n",
    "        \n",
    "        if ret:\n",
    "            frame_holder = frame  \n",
    "        else:\n",
    "            break    \n",
    "        i+=1\n",
    "\n",
    "    save_prefix = video_file.rstrip('.mp4')\n",
    "    save_filename = f'{path}/{save_prefix}-frame{i}.jpg'\n",
    "    cv2.imwrite(save_filename, frame_holder)\n",
    "    cap.release()\n",
    "    cv2.destroyAllWindows()\n",
    "    \n",
    "    # \n",
    "    suffix = video_file.rstrip('.mp4').split('_')[-1]\n",
    "    entry = {'video_file': video_file,\n",
    "              'cap_file': save_filename,\n",
    "              'date': suffix\n",
    "             }\n",
    "    return entry\n",
    "\n",
    "\n",
    "def get_todo_filenames():\n",
    "    \n",
    "    clip_file = f'may19_caps_{RUN_INDEX-1}.csv'\n",
    "    if os.path.isfile(clip_file):\n",
    "        all_clips = pd.read_csv(clip_file)\n",
    "        all_clips = all_clips[ pd.isnull(all_clips['cap_file'])]\n",
    "        todo_files = all_clips['video_file'].values\n",
    "    else:\n",
    "        #source_path = '/Volumes/PS4 MyPassp/PS4/SHARE/Video Clips/Madden NFL 19'\n",
    "        #todo_files = [f for f in os.listdir(source_path) if f.endswith('.mp4')]\n",
    "        print('ERROR')\n",
    "        \n",
    "    return todo_files\n"
   ]
  },
  {
   "cell_type": "markdown",
   "metadata": {},
   "source": [
    "# ..."
   ]
  },
  {
   "cell_type": "code",
   "execution_count": 2,
   "metadata": {
    "collapsed": true
   },
   "outputs": [],
   "source": [
    "#\n",
    "filenames = get_todo_filenames()\n",
    "\n",
    "df2 = pd.DataFrame({'video_file': filenames})\n",
    "df2['date'] = df2['video_file'].str.split('Madden NFL 19_').apply(lambda x: x[1]).str[:8]\n",
    "df2['date'] = pd.to_datetime(df2['date'], format='%Y%m%d', errors='coerce')\n",
    "df2.sort_values('date', ascending=False, inplace=True)\n",
    "df2.reset_index(drop=True, inplace=True)"
   ]
  },
  {
   "cell_type": "code",
   "execution_count": 3,
   "metadata": {
    "collapsed": true
   },
   "outputs": [],
   "source": [
    "filenames = df2['video_file'].values"
   ]
  },
  {
   "cell_type": "code",
   "execution_count": 4,
   "metadata": {},
   "outputs": [
    {
     "name": "stdout",
     "output_type": "stream",
     "text": [
      "1321 video files available... extracting 400.\n"
     ]
    }
   ],
   "source": [
    "stop_idx = min(400, len(filenames))\n",
    "print(f'{len(filenames)} video files available... extracting {stop_idx}.')\n",
    "data_entries = [extract_final_frame(file) for file in filenames[:stop_idx]]\n",
    "df = pd.DataFrame(data_entries)"
   ]
  },
  {
   "cell_type": "code",
   "execution_count": 5,
   "metadata": {},
   "outputs": [
    {
     "data": {
      "text/html": [
       "<div>\n",
       "<style scoped>\n",
       "    .dataframe tbody tr th:only-of-type {\n",
       "        vertical-align: middle;\n",
       "    }\n",
       "\n",
       "    .dataframe tbody tr th {\n",
       "        vertical-align: top;\n",
       "    }\n",
       "\n",
       "    .dataframe thead th {\n",
       "        text-align: right;\n",
       "    }\n",
       "</style>\n",
       "<table border=\"1\" class=\"dataframe\">\n",
       "  <thead>\n",
       "    <tr style=\"text-align: right;\">\n",
       "      <th></th>\n",
       "      <th>video_file</th>\n",
       "      <th>date</th>\n",
       "      <th>cap_file</th>\n",
       "    </tr>\n",
       "  </thead>\n",
       "  <tbody>\n",
       "    <tr>\n",
       "      <th>0</th>\n",
       "      <td>Madden NFL 19_20190315174740.mp4</td>\n",
       "      <td>2019-03-15</td>\n",
       "      <td>saved_frames/Madden NFL 19_20190315174740-fram...</td>\n",
       "    </tr>\n",
       "    <tr>\n",
       "      <th>1</th>\n",
       "      <td>Madden NFL 19_20190314084648.mp4</td>\n",
       "      <td>2019-03-14</td>\n",
       "      <td>saved_frames/Madden NFL 19_20190314084648-fram...</td>\n",
       "    </tr>\n",
       "    <tr>\n",
       "      <th>2</th>\n",
       "      <td>Madden NFL 19_20190313103442.mp4</td>\n",
       "      <td>2019-03-13</td>\n",
       "      <td>saved_frames/Madden NFL 19_20190313103442-fram...</td>\n",
       "    </tr>\n",
       "    <tr>\n",
       "      <th>3</th>\n",
       "      <td>Madden NFL 19_20190313192832.mp4</td>\n",
       "      <td>2019-03-13</td>\n",
       "      <td>saved_frames/Madden NFL 19_20190313192832-fram...</td>\n",
       "    </tr>\n",
       "    <tr>\n",
       "      <th>4</th>\n",
       "      <td>Madden NFL 19_20190313202516.mp4</td>\n",
       "      <td>2019-03-13</td>\n",
       "      <td>saved_frames/Madden NFL 19_20190313202516-fram...</td>\n",
       "    </tr>\n",
       "  </tbody>\n",
       "</table>\n",
       "</div>"
      ],
      "text/plain": [
       "                         video_file       date  \\\n",
       "0  Madden NFL 19_20190315174740.mp4 2019-03-15   \n",
       "1  Madden NFL 19_20190314084648.mp4 2019-03-14   \n",
       "2  Madden NFL 19_20190313103442.mp4 2019-03-13   \n",
       "3  Madden NFL 19_20190313192832.mp4 2019-03-13   \n",
       "4  Madden NFL 19_20190313202516.mp4 2019-03-13   \n",
       "\n",
       "                                            cap_file  \n",
       "0  saved_frames/Madden NFL 19_20190315174740-fram...  \n",
       "1  saved_frames/Madden NFL 19_20190314084648-fram...  \n",
       "2  saved_frames/Madden NFL 19_20190313103442-fram...  \n",
       "3  saved_frames/Madden NFL 19_20190313192832-fram...  \n",
       "4  saved_frames/Madden NFL 19_20190313202516-fram...  "
      ]
     },
     "execution_count": 5,
     "metadata": {},
     "output_type": "execute_result"
    }
   ],
   "source": [
    "newdf = pd.concat([df2, df], axis=1).iloc[:,:-2]\n",
    "newdf.head()"
   ]
  },
  {
   "cell_type": "code",
   "execution_count": 6,
   "metadata": {
    "collapsed": true
   },
   "outputs": [],
   "source": [
    "newdf.to_csv(f'may19_caps_{RUN_INDEX}.csv')"
   ]
  },
  {
   "cell_type": "markdown",
   "metadata": {},
   "source": [
    "## Cropping"
   ]
  },
  {
   "cell_type": "code",
   "execution_count": 7,
   "metadata": {
    "collapsed": true
   },
   "outputs": [],
   "source": [
    "import cv2\n",
    "import os\n",
    "import numpy as np\n",
    "import matplotlib.pyplot as plt\n",
    "import seaborn as sns\n",
    "%matplotlib inline\n",
    "\n",
    "save_path = 'saved_plays'\n",
    "\n",
    "x = 0\n",
    "y = 25\n",
    "h = 140-y\n",
    "w = 1280\n",
    "play_width = 347\n",
    "play_height = 206\n",
    "play_loc_r = (423, 821)\n",
    "play_loc_l = (423, 94)\n",
    "\n",
    "def crop_image_top(img_name):\n",
    "    # Open Image\n",
    "    image = cv2.imread(img_name)\n",
    "    # Crop Image\n",
    "    crop_img = image[y:y+h, :]\n",
    "    \n",
    "    left = crop_img[:, 72:262]\n",
    "    right = crop_img[:, 1015:1208]\n",
    "    \n",
    "    # Combine\n",
    "    concat_img = np.concatenate([left, right], axis=1)\n",
    "    fn = save_file(concat_img, img_name, user_save_path)\n",
    "    # TODO: add change to save_file so to save to 'users/' not 'saved_plays'\n",
    "    return fn\n",
    "\n",
    "def crop_image_play(img_name):\n",
    "    # Open Image\n",
    "    image = cv2.imread(img_name)\n",
    "    # Crop Image\n",
    "    left = image[play_loc_l[0]:play_loc_l[0]+play_height, play_loc_l[1]:play_loc_l[1]+play_width]\n",
    "    right = image[play_loc_r[0]:play_loc_r[0]+play_height, play_loc_r[1]:play_loc_r[1]+play_width]\n",
    "    # Combine\n",
    "    concat_img = np.concatenate([left, right], axis=1) #\n",
    "    fn = save_file(concat_img, img_name)\n",
    "    return fn\n",
    "\n",
    "def save_file(item, filename, path=save_path):\n",
    "    filename = filename.lstrip('saved_frames/')\n",
    "    save_filename = f'{path}/{filename.rstrip(\".jpg\")}-play.jpg'\n",
    "    cv2.imwrite(save_filename, item)\n",
    "    return save_filename"
   ]
  },
  {
   "cell_type": "markdown",
   "metadata": {},
   "source": [
    "### Bottom"
   ]
  },
  {
   "cell_type": "code",
   "execution_count": 8,
   "metadata": {
    "collapsed": true
   },
   "outputs": [],
   "source": [
    "newdf2 = newdf.dropna().copy()\n",
    "newdf2['play_image'] = newdf2['cap_file'].apply(lambda x: crop_image_play(x))"
   ]
  },
  {
   "cell_type": "code",
   "execution_count": 9,
   "metadata": {
    "collapsed": true
   },
   "outputs": [],
   "source": [
    "newdf2.to_csv('temp_with_sides_m19_run4.csv')"
   ]
  },
  {
   "cell_type": "code",
   "execution_count": 10,
   "metadata": {
    "collapsed": true
   },
   "outputs": [],
   "source": [
    "newdf2['user_image'] = newdf2['cap_file'].apply(lambda x: crop_image_top(x))"
   ]
  },
  {
   "cell_type": "code",
   "execution_count": 11,
   "metadata": {},
   "outputs": [
    {
     "data": {
      "text/html": [
       "<div>\n",
       "<style scoped>\n",
       "    .dataframe tbody tr th:only-of-type {\n",
       "        vertical-align: middle;\n",
       "    }\n",
       "\n",
       "    .dataframe tbody tr th {\n",
       "        vertical-align: top;\n",
       "    }\n",
       "\n",
       "    .dataframe thead th {\n",
       "        text-align: right;\n",
       "    }\n",
       "</style>\n",
       "<table border=\"1\" class=\"dataframe\">\n",
       "  <thead>\n",
       "    <tr style=\"text-align: right;\">\n",
       "      <th></th>\n",
       "      <th>video_file</th>\n",
       "      <th>date</th>\n",
       "      <th>cap_file</th>\n",
       "      <th>play_image</th>\n",
       "      <th>user_image</th>\n",
       "    </tr>\n",
       "  </thead>\n",
       "  <tbody>\n",
       "    <tr>\n",
       "      <th>0</th>\n",
       "      <td>Madden NFL 19_20190315174740.mp4</td>\n",
       "      <td>2019-03-15</td>\n",
       "      <td>saved_frames/Madden NFL 19_20190315174740-fram...</td>\n",
       "      <td>saved_plays/Madden NFL 19_20190315174740-frame...</td>\n",
       "      <td>users/Madden NFL 19_20190315174740-frame1774-p...</td>\n",
       "    </tr>\n",
       "    <tr>\n",
       "      <th>1</th>\n",
       "      <td>Madden NFL 19_20190314084648.mp4</td>\n",
       "      <td>2019-03-14</td>\n",
       "      <td>saved_frames/Madden NFL 19_20190314084648-fram...</td>\n",
       "      <td>saved_plays/Madden NFL 19_20190314084648-frame...</td>\n",
       "      <td>users/Madden NFL 19_20190314084648-frame467-pl...</td>\n",
       "    </tr>\n",
       "    <tr>\n",
       "      <th>2</th>\n",
       "      <td>Madden NFL 19_20190313103442.mp4</td>\n",
       "      <td>2019-03-13</td>\n",
       "      <td>saved_frames/Madden NFL 19_20190313103442-fram...</td>\n",
       "      <td>saved_plays/Madden NFL 19_20190313103442-frame...</td>\n",
       "      <td>users/Madden NFL 19_20190313103442-frame1781-p...</td>\n",
       "    </tr>\n",
       "    <tr>\n",
       "      <th>3</th>\n",
       "      <td>Madden NFL 19_20190313192832.mp4</td>\n",
       "      <td>2019-03-13</td>\n",
       "      <td>saved_frames/Madden NFL 19_20190313192832-fram...</td>\n",
       "      <td>saved_plays/Madden NFL 19_20190313192832-frame...</td>\n",
       "      <td>users/Madden NFL 19_20190313192832-frame1725-p...</td>\n",
       "    </tr>\n",
       "    <tr>\n",
       "      <th>4</th>\n",
       "      <td>Madden NFL 19_20190313202516.mp4</td>\n",
       "      <td>2019-03-13</td>\n",
       "      <td>saved_frames/Madden NFL 19_20190313202516-fram...</td>\n",
       "      <td>saved_plays/Madden NFL 19_20190313202516-frame...</td>\n",
       "      <td>users/Madden NFL 19_20190313202516-frame1717-p...</td>\n",
       "    </tr>\n",
       "  </tbody>\n",
       "</table>\n",
       "</div>"
      ],
      "text/plain": [
       "                         video_file       date  \\\n",
       "0  Madden NFL 19_20190315174740.mp4 2019-03-15   \n",
       "1  Madden NFL 19_20190314084648.mp4 2019-03-14   \n",
       "2  Madden NFL 19_20190313103442.mp4 2019-03-13   \n",
       "3  Madden NFL 19_20190313192832.mp4 2019-03-13   \n",
       "4  Madden NFL 19_20190313202516.mp4 2019-03-13   \n",
       "\n",
       "                                            cap_file  \\\n",
       "0  saved_frames/Madden NFL 19_20190315174740-fram...   \n",
       "1  saved_frames/Madden NFL 19_20190314084648-fram...   \n",
       "2  saved_frames/Madden NFL 19_20190313103442-fram...   \n",
       "3  saved_frames/Madden NFL 19_20190313192832-fram...   \n",
       "4  saved_frames/Madden NFL 19_20190313202516-fram...   \n",
       "\n",
       "                                          play_image  \\\n",
       "0  saved_plays/Madden NFL 19_20190315174740-frame...   \n",
       "1  saved_plays/Madden NFL 19_20190314084648-frame...   \n",
       "2  saved_plays/Madden NFL 19_20190313103442-frame...   \n",
       "3  saved_plays/Madden NFL 19_20190313192832-frame...   \n",
       "4  saved_plays/Madden NFL 19_20190313202516-frame...   \n",
       "\n",
       "                                          user_image  \n",
       "0  users/Madden NFL 19_20190315174740-frame1774-p...  \n",
       "1  users/Madden NFL 19_20190314084648-frame467-pl...  \n",
       "2  users/Madden NFL 19_20190313103442-frame1781-p...  \n",
       "3  users/Madden NFL 19_20190313192832-frame1725-p...  \n",
       "4  users/Madden NFL 19_20190313202516-frame1717-p...  "
      ]
     },
     "execution_count": 11,
     "metadata": {},
     "output_type": "execute_result"
    }
   ],
   "source": [
    "newdf2.head()"
   ]
  },
  {
   "cell_type": "code",
   "execution_count": 12,
   "metadata": {
    "collapsed": true
   },
   "outputs": [],
   "source": [
    "newdf2.to_csv('temp_with_users_m19_run4.csv')2"
   ]
  },
  {
   "cell_type": "markdown",
   "metadata": {},
   "source": [
    "## Labeling (Left, Right, Neither)\n",
    "Do Manual Labelling by dragging and dropping into subfolders of saved_plays: left, right, neither"
   ]
  },
  {
   "cell_type": "code",
   "execution_count": 13,
   "metadata": {
    "collapsed": true
   },
   "outputs": [],
   "source": [
    "dic = {}\n",
    "for _ in ['left', 'right', 'neither']:\n",
    "    files = os.listdir(os.path.join('saved_plays', _))\n",
    "    files = [f for f in files if f.endswith('.jpg')]\n",
    "\n",
    "    for file in files:\n",
    "        dic[file] = _"
   ]
  },
  {
   "cell_type": "code",
   "execution_count": 14,
   "metadata": {
    "collapsed": true
   },
   "outputs": [],
   "source": [
    "newdf2['play_side'] = newdf2['play_image'].apply(lambda x: dic[x.lstrip('saved_plays/')])"
   ]
  },
  {
   "cell_type": "code",
   "execution_count": 15,
   "metadata": {},
   "outputs": [
    {
     "data": {
      "text/html": [
       "<div>\n",
       "<style scoped>\n",
       "    .dataframe tbody tr th:only-of-type {\n",
       "        vertical-align: middle;\n",
       "    }\n",
       "\n",
       "    .dataframe tbody tr th {\n",
       "        vertical-align: top;\n",
       "    }\n",
       "\n",
       "    .dataframe thead th {\n",
       "        text-align: right;\n",
       "    }\n",
       "</style>\n",
       "<table border=\"1\" class=\"dataframe\">\n",
       "  <thead>\n",
       "    <tr style=\"text-align: right;\">\n",
       "      <th></th>\n",
       "      <th>video_file</th>\n",
       "      <th>date</th>\n",
       "      <th>cap_file</th>\n",
       "      <th>play_image</th>\n",
       "      <th>user_image</th>\n",
       "      <th>play_side</th>\n",
       "    </tr>\n",
       "  </thead>\n",
       "  <tbody>\n",
       "    <tr>\n",
       "      <th>0</th>\n",
       "      <td>Madden NFL 19_20190315174740.mp4</td>\n",
       "      <td>2019-03-15</td>\n",
       "      <td>saved_frames/Madden NFL 19_20190315174740-fram...</td>\n",
       "      <td>saved_plays/Madden NFL 19_20190315174740-frame...</td>\n",
       "      <td>users/Madden NFL 19_20190315174740-frame1774-p...</td>\n",
       "      <td>right</td>\n",
       "    </tr>\n",
       "    <tr>\n",
       "      <th>1</th>\n",
       "      <td>Madden NFL 19_20190314084648.mp4</td>\n",
       "      <td>2019-03-14</td>\n",
       "      <td>saved_frames/Madden NFL 19_20190314084648-fram...</td>\n",
       "      <td>saved_plays/Madden NFL 19_20190314084648-frame...</td>\n",
       "      <td>users/Madden NFL 19_20190314084648-frame467-pl...</td>\n",
       "      <td>right</td>\n",
       "    </tr>\n",
       "    <tr>\n",
       "      <th>2</th>\n",
       "      <td>Madden NFL 19_20190313103442.mp4</td>\n",
       "      <td>2019-03-13</td>\n",
       "      <td>saved_frames/Madden NFL 19_20190313103442-fram...</td>\n",
       "      <td>saved_plays/Madden NFL 19_20190313103442-frame...</td>\n",
       "      <td>users/Madden NFL 19_20190313103442-frame1781-p...</td>\n",
       "      <td>right</td>\n",
       "    </tr>\n",
       "    <tr>\n",
       "      <th>3</th>\n",
       "      <td>Madden NFL 19_20190313192832.mp4</td>\n",
       "      <td>2019-03-13</td>\n",
       "      <td>saved_frames/Madden NFL 19_20190313192832-fram...</td>\n",
       "      <td>saved_plays/Madden NFL 19_20190313192832-frame...</td>\n",
       "      <td>users/Madden NFL 19_20190313192832-frame1725-p...</td>\n",
       "      <td>right</td>\n",
       "    </tr>\n",
       "    <tr>\n",
       "      <th>4</th>\n",
       "      <td>Madden NFL 19_20190313202516.mp4</td>\n",
       "      <td>2019-03-13</td>\n",
       "      <td>saved_frames/Madden NFL 19_20190313202516-fram...</td>\n",
       "      <td>saved_plays/Madden NFL 19_20190313202516-frame...</td>\n",
       "      <td>users/Madden NFL 19_20190313202516-frame1717-p...</td>\n",
       "      <td>right</td>\n",
       "    </tr>\n",
       "  </tbody>\n",
       "</table>\n",
       "</div>"
      ],
      "text/plain": [
       "                         video_file       date  \\\n",
       "0  Madden NFL 19_20190315174740.mp4 2019-03-15   \n",
       "1  Madden NFL 19_20190314084648.mp4 2019-03-14   \n",
       "2  Madden NFL 19_20190313103442.mp4 2019-03-13   \n",
       "3  Madden NFL 19_20190313192832.mp4 2019-03-13   \n",
       "4  Madden NFL 19_20190313202516.mp4 2019-03-13   \n",
       "\n",
       "                                            cap_file  \\\n",
       "0  saved_frames/Madden NFL 19_20190315174740-fram...   \n",
       "1  saved_frames/Madden NFL 19_20190314084648-fram...   \n",
       "2  saved_frames/Madden NFL 19_20190313103442-fram...   \n",
       "3  saved_frames/Madden NFL 19_20190313192832-fram...   \n",
       "4  saved_frames/Madden NFL 19_20190313202516-fram...   \n",
       "\n",
       "                                          play_image  \\\n",
       "0  saved_plays/Madden NFL 19_20190315174740-frame...   \n",
       "1  saved_plays/Madden NFL 19_20190314084648-frame...   \n",
       "2  saved_plays/Madden NFL 19_20190313103442-frame...   \n",
       "3  saved_plays/Madden NFL 19_20190313192832-frame...   \n",
       "4  saved_plays/Madden NFL 19_20190313202516-frame...   \n",
       "\n",
       "                                          user_image play_side  \n",
       "0  users/Madden NFL 19_20190315174740-frame1774-p...     right  \n",
       "1  users/Madden NFL 19_20190314084648-frame467-pl...     right  \n",
       "2  users/Madden NFL 19_20190313103442-frame1781-p...     right  \n",
       "3  users/Madden NFL 19_20190313192832-frame1725-p...     right  \n",
       "4  users/Madden NFL 19_20190313202516-frame1717-p...     right  "
      ]
     },
     "execution_count": 15,
     "metadata": {},
     "output_type": "execute_result"
    }
   ],
   "source": [
    "newdf2.head()"
   ]
  },
  {
   "cell_type": "code",
   "execution_count": 16,
   "metadata": {},
   "outputs": [
    {
     "data": {
      "text/html": [
       "<div>\n",
       "<style scoped>\n",
       "    .dataframe tbody tr th:only-of-type {\n",
       "        vertical-align: middle;\n",
       "    }\n",
       "\n",
       "    .dataframe tbody tr th {\n",
       "        vertical-align: top;\n",
       "    }\n",
       "\n",
       "    .dataframe thead th {\n",
       "        text-align: right;\n",
       "    }\n",
       "</style>\n",
       "<table border=\"1\" class=\"dataframe\">\n",
       "  <thead>\n",
       "    <tr style=\"text-align: right;\">\n",
       "      <th></th>\n",
       "      <th>video_file</th>\n",
       "      <th>date</th>\n",
       "      <th>cap_file</th>\n",
       "      <th>play_image</th>\n",
       "      <th>user_image</th>\n",
       "      <th>play_side</th>\n",
       "    </tr>\n",
       "  </thead>\n",
       "  <tbody>\n",
       "    <tr>\n",
       "      <th>395</th>\n",
       "      <td>Madden NFL 19_20190213151503.mp4</td>\n",
       "      <td>2019-02-13</td>\n",
       "      <td>saved_frames/Madden NFL 19_20190213151503-fram...</td>\n",
       "      <td>saved_plays/Madden NFL 19_20190213151503-frame...</td>\n",
       "      <td>users/Madden NFL 19_20190213151503-frame1717-p...</td>\n",
       "      <td>left</td>\n",
       "    </tr>\n",
       "    <tr>\n",
       "      <th>396</th>\n",
       "      <td>Madden NFL 19_20190212133257.mp4</td>\n",
       "      <td>2019-02-12</td>\n",
       "      <td>saved_frames/Madden NFL 19_20190212133257-fram...</td>\n",
       "      <td>saved_plays/Madden NFL 19_20190212133257-frame...</td>\n",
       "      <td>users/Madden NFL 19_20190212133257-frame1790-p...</td>\n",
       "      <td>right</td>\n",
       "    </tr>\n",
       "    <tr>\n",
       "      <th>397</th>\n",
       "      <td>Madden NFL 19_20190212134511.mp4</td>\n",
       "      <td>2019-02-12</td>\n",
       "      <td>saved_frames/Madden NFL 19_20190212134511-fram...</td>\n",
       "      <td>saved_plays/Madden NFL 19_20190212134511-frame...</td>\n",
       "      <td>users/Madden NFL 19_20190212134511-frame1781-p...</td>\n",
       "      <td>right</td>\n",
       "    </tr>\n",
       "    <tr>\n",
       "      <th>398</th>\n",
       "      <td>Madden NFL 19_20190212153547.mp4</td>\n",
       "      <td>2019-02-12</td>\n",
       "      <td>saved_frames/Madden NFL 19_20190212153547-fram...</td>\n",
       "      <td>saved_plays/Madden NFL 19_20190212153547-frame...</td>\n",
       "      <td>users/Madden NFL 19_20190212153547-frame1772-p...</td>\n",
       "      <td>right</td>\n",
       "    </tr>\n",
       "    <tr>\n",
       "      <th>399</th>\n",
       "      <td>Madden NFL 19_20190212130011.mp4</td>\n",
       "      <td>2019-02-12</td>\n",
       "      <td>saved_frames/Madden NFL 19_20190212130011-fram...</td>\n",
       "      <td>saved_plays/Madden NFL 19_20190212130011-frame...</td>\n",
       "      <td>users/Madden NFL 19_20190212130011-frame1489-p...</td>\n",
       "      <td>left</td>\n",
       "    </tr>\n",
       "  </tbody>\n",
       "</table>\n",
       "</div>"
      ],
      "text/plain": [
       "                           video_file       date  \\\n",
       "395  Madden NFL 19_20190213151503.mp4 2019-02-13   \n",
       "396  Madden NFL 19_20190212133257.mp4 2019-02-12   \n",
       "397  Madden NFL 19_20190212134511.mp4 2019-02-12   \n",
       "398  Madden NFL 19_20190212153547.mp4 2019-02-12   \n",
       "399  Madden NFL 19_20190212130011.mp4 2019-02-12   \n",
       "\n",
       "                                              cap_file  \\\n",
       "395  saved_frames/Madden NFL 19_20190213151503-fram...   \n",
       "396  saved_frames/Madden NFL 19_20190212133257-fram...   \n",
       "397  saved_frames/Madden NFL 19_20190212134511-fram...   \n",
       "398  saved_frames/Madden NFL 19_20190212153547-fram...   \n",
       "399  saved_frames/Madden NFL 19_20190212130011-fram...   \n",
       "\n",
       "                                            play_image  \\\n",
       "395  saved_plays/Madden NFL 19_20190213151503-frame...   \n",
       "396  saved_plays/Madden NFL 19_20190212133257-frame...   \n",
       "397  saved_plays/Madden NFL 19_20190212134511-frame...   \n",
       "398  saved_plays/Madden NFL 19_20190212153547-frame...   \n",
       "399  saved_plays/Madden NFL 19_20190212130011-frame...   \n",
       "\n",
       "                                            user_image play_side  \n",
       "395  users/Madden NFL 19_20190213151503-frame1717-p...      left  \n",
       "396  users/Madden NFL 19_20190212133257-frame1790-p...     right  \n",
       "397  users/Madden NFL 19_20190212134511-frame1781-p...     right  \n",
       "398  users/Madden NFL 19_20190212153547-frame1772-p...     right  \n",
       "399  users/Madden NFL 19_20190212130011-frame1489-p...      left  "
      ]
     },
     "execution_count": 16,
     "metadata": {},
     "output_type": "execute_result"
    }
   ],
   "source": [
    "newdf2.tail()"
   ]
  },
  {
   "cell_type": "code",
   "execution_count": 17,
   "metadata": {
    "collapsed": true
   },
   "outputs": [],
   "source": [
    "newdf2.to_csv(f'may19_withplay_{RUN_INDEX}.csv')"
   ]
  },
  {
   "cell_type": "code",
   "execution_count": 18,
   "metadata": {},
   "outputs": [
    {
     "data": {
      "text/plain": [
       "(400, 6)"
      ]
     },
     "execution_count": 18,
     "metadata": {},
     "output_type": "execute_result"
    }
   ],
   "source": [
    "newdf2.shape"
   ]
  },
  {
   "cell_type": "markdown",
   "metadata": {
    "collapsed": true
   },
   "source": [
    "### Combining previous DFs (change)"
   ]
  },
  {
   "cell_type": "code",
   "execution_count": 19,
   "metadata": {},
   "outputs": [
    {
     "name": "stderr",
     "output_type": "stream",
     "text": [
      "/anaconda3/lib/python3.6/site-packages/ipykernel_launcher.py:7: FutureWarning: Sorting because non-concatenation axis is not aligned. A future version\n",
      "of pandas will change to not sort by default.\n",
      "\n",
      "To accept the future behavior, pass 'sort=False'.\n",
      "\n",
      "To retain the current behavior and silence the warning, pass 'sort=True'.\n",
      "\n",
      "  import sys\n",
      "/anaconda3/lib/python3.6/site-packages/ipykernel_launcher.py:8: FutureWarning: Sorting because non-concatenation axis is not aligned. A future version\n",
      "of pandas will change to not sort by default.\n",
      "\n",
      "To accept the future behavior, pass 'sort=False'.\n",
      "\n",
      "To retain the current behavior and silence the warning, pass 'sort=True'.\n",
      "\n",
      "  \n"
     ]
    }
   ],
   "source": [
    "a = pd.read_csv('may19_withplay_1.csv', index_col=0)\n",
    "b = pd.read_csv('may19_withplay_2.csv', index_col=0)\n",
    "c = pd.read_csv('may19_withplay_3.csv', index_col=0)\n",
    "d = pd.read_csv('may19_withplay_4.csv', index_col=0)\n",
    "\n",
    "cdf = pd.concat([a, b], axis=0)\n",
    "cdf = pd.concat([cdf, c], axis=0)\n",
    "cdf = pd.concat([cdf, d], axis=0)"
   ]
  },
  {
   "cell_type": "code",
   "execution_count": 20,
   "metadata": {},
   "outputs": [
    {
     "data": {
      "text/plain": [
       "right      456\n",
       "left       422\n",
       "neither    222\n",
       "Name: play_side, dtype: int64"
      ]
     },
     "execution_count": 20,
     "metadata": {},
     "output_type": "execute_result"
    }
   ],
   "source": [
    "cdf['play_side'].value_counts()"
   ]
  },
  {
   "cell_type": "code",
   "execution_count": 21,
   "metadata": {},
   "outputs": [
    {
     "data": {
      "image/png": "[encoded data removed]",
      "text/plain": [
       "<Figure size 432x288 with 1 Axes>"
      ]
     },
     "metadata": {},
     "output_type": "display_data"
    }
   ],
   "source": [
    "sns.countplot(cdf['play_side']);"
   ]
  },
  {
   "cell_type": "markdown",
   "metadata": {
    "collapsed": true
   },
   "source": [
    "## Play Type Labelling (Pass, Run, Fake)\n",
    "- Manually label like previous"
   ]
  },
  {
   "cell_type": "code",
   "execution_count": 22,
   "metadata": {
    "collapsed": true
   },
   "outputs": [],
   "source": [
    "dic = {}\n",
    "for _ in ['left', 'right']:\n",
    "    for play in ['run', 'pass', 'fake']:\n",
    "        files = os.listdir(os.path.join(f'saved_plays/{_}', play))\n",
    "        files = [f for f in files if f.endswith('.jpg')]\n",
    "\n",
    "        for file in files:\n",
    "            dic[file] = play"
   ]
  },
  {
   "cell_type": "code",
   "execution_count": 23,
   "metadata": {
    "collapsed": true
   },
   "outputs": [],
   "source": [
    "newdf3 = cdf[ cdf['play_side']!='neither' ].copy()\n",
    "newdf3['play_type'] = newdf3['play_image'].apply(lambda x: dic[x.lstrip('saved_plays/')])"
   ]
  },
  {
   "cell_type": "code",
   "execution_count": 24,
   "metadata": {},
   "outputs": [
    {
     "data": {
      "text/html": [
       "<div>\n",
       "<style scoped>\n",
       "    .dataframe tbody tr th:only-of-type {\n",
       "        vertical-align: middle;\n",
       "    }\n",
       "\n",
       "    .dataframe tbody tr th {\n",
       "        vertical-align: top;\n",
       "    }\n",
       "\n",
       "    .dataframe thead th {\n",
       "        text-align: right;\n",
       "    }\n",
       "</style>\n",
       "<table border=\"1\" class=\"dataframe\">\n",
       "  <thead>\n",
       "    <tr style=\"text-align: right;\">\n",
       "      <th></th>\n",
       "      <th>cap_file</th>\n",
       "      <th>date</th>\n",
       "      <th>play_image</th>\n",
       "      <th>play_side</th>\n",
       "      <th>user_image</th>\n",
       "      <th>video_file</th>\n",
       "      <th>play_type</th>\n",
       "    </tr>\n",
       "  </thead>\n",
       "  <tbody>\n",
       "    <tr>\n",
       "      <th>0</th>\n",
       "      <td>saved_frames/Madden NFL 19_2019051819382-frame...</td>\n",
       "      <td>2019-05-18</td>\n",
       "      <td>saved_plays/Madden NFL 19_2019051819382-frame1...</td>\n",
       "      <td>left</td>\n",
       "      <td>NaN</td>\n",
       "      <td>Madden NFL 19_20190518193824.mp4</td>\n",
       "      <td>run</td>\n",
       "    </tr>\n",
       "    <tr>\n",
       "      <th>1</th>\n",
       "      <td>saved_frames/Madden NFL 19_20190518194258-fram...</td>\n",
       "      <td>2019-05-18</td>\n",
       "      <td>saved_plays/Madden NFL 19_20190518194258-frame...</td>\n",
       "      <td>left</td>\n",
       "      <td>NaN</td>\n",
       "      <td>Madden NFL 19_20190518194258.mp4</td>\n",
       "      <td>run</td>\n",
       "    </tr>\n",
       "    <tr>\n",
       "      <th>2</th>\n",
       "      <td>saved_frames/Madden NFL 19_20190518193848-fram...</td>\n",
       "      <td>2019-05-18</td>\n",
       "      <td>saved_plays/Madden NFL 19_20190518193848-frame...</td>\n",
       "      <td>left</td>\n",
       "      <td>NaN</td>\n",
       "      <td>Madden NFL 19_20190518193848.mp4</td>\n",
       "      <td>run</td>\n",
       "    </tr>\n",
       "    <tr>\n",
       "      <th>3</th>\n",
       "      <td>saved_frames/Madden NFL 19_20190518193117-fram...</td>\n",
       "      <td>2019-05-18</td>\n",
       "      <td>saved_plays/Madden NFL 19_20190518193117-frame...</td>\n",
       "      <td>right</td>\n",
       "      <td>NaN</td>\n",
       "      <td>Madden NFL 19_20190518193117.mp4</td>\n",
       "      <td>pass</td>\n",
       "    </tr>\n",
       "    <tr>\n",
       "      <th>4</th>\n",
       "      <td>saved_frames/Madden NFL 19_20190518192339-fram...</td>\n",
       "      <td>2019-05-18</td>\n",
       "      <td>saved_plays/Madden NFL 19_20190518192339-frame...</td>\n",
       "      <td>right</td>\n",
       "      <td>NaN</td>\n",
       "      <td>Madden NFL 19_20190518192339.mp4</td>\n",
       "      <td>run</td>\n",
       "    </tr>\n",
       "  </tbody>\n",
       "</table>\n",
       "</div>"
      ],
      "text/plain": [
       "                                            cap_file        date  \\\n",
       "0  saved_frames/Madden NFL 19_2019051819382-frame...  2019-05-18   \n",
       "1  saved_frames/Madden NFL 19_20190518194258-fram...  2019-05-18   \n",
       "2  saved_frames/Madden NFL 19_20190518193848-fram...  2019-05-18   \n",
       "3  saved_frames/Madden NFL 19_20190518193117-fram...  2019-05-18   \n",
       "4  saved_frames/Madden NFL 19_20190518192339-fram...  2019-05-18   \n",
       "\n",
       "                                          play_image play_side user_image  \\\n",
       "0  saved_plays/Madden NFL 19_2019051819382-frame1...      left        NaN   \n",
       "1  saved_plays/Madden NFL 19_20190518194258-frame...      left        NaN   \n",
       "2  saved_plays/Madden NFL 19_20190518193848-frame...      left        NaN   \n",
       "3  saved_plays/Madden NFL 19_20190518193117-frame...     right        NaN   \n",
       "4  saved_plays/Madden NFL 19_20190518192339-frame...     right        NaN   \n",
       "\n",
       "                         video_file play_type  \n",
       "0  Madden NFL 19_20190518193824.mp4       run  \n",
       "1  Madden NFL 19_20190518194258.mp4       run  \n",
       "2  Madden NFL 19_20190518193848.mp4       run  \n",
       "3  Madden NFL 19_20190518193117.mp4      pass  \n",
       "4  Madden NFL 19_20190518192339.mp4       run  "
      ]
     },
     "execution_count": 24,
     "metadata": {},
     "output_type": "execute_result"
    }
   ],
   "source": [
    "newdf3.head()"
   ]
  },
  {
   "cell_type": "code",
   "execution_count": 25,
   "metadata": {},
   "outputs": [
    {
     "data": {
      "text/plain": [
       "pass    580\n",
       "run     263\n",
       "fake     35\n",
       "Name: play_type, dtype: int64"
      ]
     },
     "execution_count": 25,
     "metadata": {},
     "output_type": "execute_result"
    }
   ],
   "source": [
    "newdf3['play_type'].value_counts()"
   ]
  },
  {
   "cell_type": "code",
   "execution_count": 26,
   "metadata": {},
   "outputs": [
    {
     "data": {
      "image/png": "[encoded data removed]",
      "text/plain": [
       "<Figure size 432x288 with 1 Axes>"
      ]
     },
     "metadata": {},
     "output_type": "display_data"
    }
   ],
   "source": [
    "sns.countplot(newdf3['play_type']);"
   ]
  },
  {
   "cell_type": "code",
   "execution_count": 27,
   "metadata": {
    "collapsed": true
   },
   "outputs": [],
   "source": [
    "newdf3.to_csv(f'may19_with_type_{RUN_INDEX}.csv')"
   ]
  },
  {
   "cell_type": "markdown",
   "metadata": {
    "collapsed": true
   },
   "source": [
    "## Squads/Not-Squads Labelling"
   ]
  },
  {
   "cell_type": "code",
   "execution_count": 35,
   "metadata": {},
   "outputs": [],
   "source": [
    "dic = {}\n",
    "for _ in ['squads', 'notsquads']:\n",
    "    files = os.listdir(os.path.join(f'users', _))\n",
    "    files = [f for f in files if f.endswith('.jpg')]\n",
    "\n",
    "    for file in files:\n",
    "        dic[file] = _"
   ]
  },
  {
   "cell_type": "code",
   "execution_count": 40,
   "metadata": {},
   "outputs": [],
   "source": [
    "newdf2['squads'] = newdf2['user_image'].apply(lambda x: dic[x.lstrip('users/')])"
   ]
  },
  {
   "cell_type": "code",
   "execution_count": 43,
   "metadata": {},
   "outputs": [
    {
     "data": {
      "text/html": [
       "<div>\n",
       "<style scoped>\n",
       "    .dataframe tbody tr th:only-of-type {\n",
       "        vertical-align: middle;\n",
       "    }\n",
       "\n",
       "    .dataframe tbody tr th {\n",
       "        vertical-align: top;\n",
       "    }\n",
       "\n",
       "    .dataframe thead th {\n",
       "        text-align: right;\n",
       "    }\n",
       "</style>\n",
       "<table border=\"1\" class=\"dataframe\">\n",
       "  <thead>\n",
       "    <tr style=\"text-align: right;\">\n",
       "      <th></th>\n",
       "      <th>video_file</th>\n",
       "      <th>date</th>\n",
       "      <th>cap_file</th>\n",
       "      <th>play_image</th>\n",
       "      <th>user_image</th>\n",
       "      <th>play_side</th>\n",
       "      <th>squads</th>\n",
       "    </tr>\n",
       "  </thead>\n",
       "  <tbody>\n",
       "    <tr>\n",
       "      <th>0</th>\n",
       "      <td>Madden NFL 19_20190315174740.mp4</td>\n",
       "      <td>2019-03-15</td>\n",
       "      <td>saved_frames/Madden NFL 19_20190315174740-fram...</td>\n",
       "      <td>saved_plays/Madden NFL 19_20190315174740-frame...</td>\n",
       "      <td>users/Madden NFL 19_20190315174740-frame1774-p...</td>\n",
       "      <td>right</td>\n",
       "      <td>notsquads</td>\n",
       "    </tr>\n",
       "    <tr>\n",
       "      <th>1</th>\n",
       "      <td>Madden NFL 19_20190314084648.mp4</td>\n",
       "      <td>2019-03-14</td>\n",
       "      <td>saved_frames/Madden NFL 19_20190314084648-fram...</td>\n",
       "      <td>saved_plays/Madden NFL 19_20190314084648-frame...</td>\n",
       "      <td>users/Madden NFL 19_20190314084648-frame467-pl...</td>\n",
       "      <td>right</td>\n",
       "      <td>notsquads</td>\n",
       "    </tr>\n",
       "    <tr>\n",
       "      <th>2</th>\n",
       "      <td>Madden NFL 19_20190313103442.mp4</td>\n",
       "      <td>2019-03-13</td>\n",
       "      <td>saved_frames/Madden NFL 19_20190313103442-fram...</td>\n",
       "      <td>saved_plays/Madden NFL 19_20190313103442-frame...</td>\n",
       "      <td>users/Madden NFL 19_20190313103442-frame1781-p...</td>\n",
       "      <td>right</td>\n",
       "      <td>notsquads</td>\n",
       "    </tr>\n",
       "    <tr>\n",
       "      <th>3</th>\n",
       "      <td>Madden NFL 19_20190313192832.mp4</td>\n",
       "      <td>2019-03-13</td>\n",
       "      <td>saved_frames/Madden NFL 19_20190313192832-fram...</td>\n",
       "      <td>saved_plays/Madden NFL 19_20190313192832-frame...</td>\n",
       "      <td>users/Madden NFL 19_20190313192832-frame1725-p...</td>\n",
       "      <td>right</td>\n",
       "      <td>notsquads</td>\n",
       "    </tr>\n",
       "    <tr>\n",
       "      <th>4</th>\n",
       "      <td>Madden NFL 19_20190313202516.mp4</td>\n",
       "      <td>2019-03-13</td>\n",
       "      <td>saved_frames/Madden NFL 19_20190313202516-fram...</td>\n",
       "      <td>saved_plays/Madden NFL 19_20190313202516-frame...</td>\n",
       "      <td>users/Madden NFL 19_20190313202516-frame1717-p...</td>\n",
       "      <td>right</td>\n",
       "      <td>notsquads</td>\n",
       "    </tr>\n",
       "  </tbody>\n",
       "</table>\n",
       "</div>"
      ],
      "text/plain": [
       "                         video_file       date  \\\n",
       "0  Madden NFL 19_20190315174740.mp4 2019-03-15   \n",
       "1  Madden NFL 19_20190314084648.mp4 2019-03-14   \n",
       "2  Madden NFL 19_20190313103442.mp4 2019-03-13   \n",
       "3  Madden NFL 19_20190313192832.mp4 2019-03-13   \n",
       "4  Madden NFL 19_20190313202516.mp4 2019-03-13   \n",
       "\n",
       "                                            cap_file  \\\n",
       "0  saved_frames/Madden NFL 19_20190315174740-fram...   \n",
       "1  saved_frames/Madden NFL 19_20190314084648-fram...   \n",
       "2  saved_frames/Madden NFL 19_20190313103442-fram...   \n",
       "3  saved_frames/Madden NFL 19_20190313192832-fram...   \n",
       "4  saved_frames/Madden NFL 19_20190313202516-fram...   \n",
       "\n",
       "                                          play_image  \\\n",
       "0  saved_plays/Madden NFL 19_20190315174740-frame...   \n",
       "1  saved_plays/Madden NFL 19_20190314084648-frame...   \n",
       "2  saved_plays/Madden NFL 19_20190313103442-frame...   \n",
       "3  saved_plays/Madden NFL 19_20190313192832-frame...   \n",
       "4  saved_plays/Madden NFL 19_20190313202516-frame...   \n",
       "\n",
       "                                          user_image play_side     squads  \n",
       "0  users/Madden NFL 19_20190315174740-frame1774-p...     right  notsquads  \n",
       "1  users/Madden NFL 19_20190314084648-frame467-pl...     right  notsquads  \n",
       "2  users/Madden NFL 19_20190313103442-frame1781-p...     right  notsquads  \n",
       "3  users/Madden NFL 19_20190313192832-frame1725-p...     right  notsquads  \n",
       "4  users/Madden NFL 19_20190313202516-frame1717-p...     right  notsquads  "
      ]
     },
     "execution_count": 43,
     "metadata": {},
     "output_type": "execute_result"
    }
   ],
   "source": [
    "newdf2.head()"
   ]
  },
  {
   "cell_type": "code",
   "execution_count": 44,
   "metadata": {},
   "outputs": [],
   "source": [
    "newdf2.to_csv(f'game_type_{RUN_INDEX}.csv')"
   ]
  },
  {
   "cell_type": "code",
   "execution_count": 45,
   "metadata": {},
   "outputs": [
    {
     "data": {
      "text/plain": [
       "squads       266\n",
       "notsquads    134\n",
       "Name: squads, dtype: int64"
      ]
     },
     "execution_count": 45,
     "metadata": {},
     "output_type": "execute_result"
    }
   ],
   "source": [
    "newdf2['squads'].value_counts()"
   ]
  },
  {
   "cell_type": "code",
   "execution_count": 46,
   "metadata": {},
   "outputs": [
    {
     "data": {
      "image/png": "[encoded data removed]",
      "text/plain": [
       "<Figure size 432x288 with 1 Axes>"
      ]
     },
     "metadata": {},
     "output_type": "display_data"
    }
   ],
   "source": [
    "sns.countplot(newdf2['squads']);"
   ]
  },
  {
   "cell_type": "code",
   "execution_count": null,
   "metadata": {
    "collapsed": true
   },
   "outputs": [],
   "source": []
  }
 ],
 "metadata": {
  "kernelspec": {
   "display_name": "Python 3",
   "language": "python",
   "name": "python3"
  },
  "language_info": {
   "codemirror_mode": {
    "name": "ipython",
    "version": 3
   },
   "file_extension": ".py",
   "mimetype": "text/x-python",
   "name": "python",
   "nbconvert_exporter": "python",
   "pygments_lexer": "ipython3",
   "version": "3.6.3"
  }
 },
 "nbformat": 4,
 "nbformat_minor": 2
}
