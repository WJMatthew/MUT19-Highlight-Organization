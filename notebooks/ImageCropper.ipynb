{
 "cells": [
  {
   "cell_type": "markdown",
   "metadata": {},
   "source": [
    "# ImageCropper Class\n",
    "Takes folder of full screenshots and crops them (top and bottom) and saves to specified folders."
   ]
  },
  {
   "cell_type": "code",
   "execution_count": 50,
   "metadata": {},
   "outputs": [],
   "source": [
    "import os\n",
    "import pandas as pd\n",
    "import numpy as np\n",
    "import cv2\n",
    "\n",
    "class ImageCropper:\n",
    "\n",
    "    def __init__(self, root_dir='image_data', kind='test'):\n",
    "        self.x = 0\n",
    "        self.y = 25\n",
    "        self.h = 140 - self.y\n",
    "        self.w = 1280\n",
    "        self.play_width = 347\n",
    "        self.play_height = 206\n",
    "        self.play_loc_r = (423, 821)\n",
    "        self.play_loc_l = (423, 94)\n",
    "        self.root_dir = root_dir\n",
    "        self.kind_path = os.path.join(root_dir, kind)\n",
    "        self.user_path = os.path.join(root_dir, kind, 'users')\n",
    "        self.play_path = os.path.join(root_dir, kind, 'saved_plays')\n",
    "        self.check_for_folders()\n",
    "    \n",
    "    def check_for_folders(self):\n",
    "        for path in [self.root_dir, self.kind_path, self.user_path, self.play_path]:\n",
    "            if not os.path.isdir(path):\n",
    "                os.mkdir(path)\n",
    "    \n",
    "    def crop_image_top(self, img_name):\n",
    "        # Open Image\n",
    "        image = cv2.imread(img_name)\n",
    "        # Crop Image\n",
    "        crop_img = image[self.y:self.y + self.h, :]\n",
    "\n",
    "        left = crop_img[:, 72:262]\n",
    "        right = crop_img[:, 1015:1208]\n",
    "\n",
    "        # Combine\n",
    "        concat_img = np.concatenate([left, right], axis=1)\n",
    "        fn = self.save_file(concat_img, img_name.split('/')[-1], self.user_path, 'top')\n",
    "        return fn\n",
    "\n",
    "\n",
    "    def crop_image_play(self, img_name):\n",
    "        # Open Image\n",
    "        image = cv2.imread(img_name)\n",
    "        # Crop Image\n",
    "        left = image[self.play_loc_l[0]: self.play_loc_l[0] + self.play_height,\n",
    "                     self.play_loc_l[1]: self.play_loc_l[1] + self.play_width]\n",
    "        right = image[self.play_loc_r[0]: self.play_loc_r[0] + self.play_height,\n",
    "                     self.play_loc_r[1]: self.play_loc_r[1] + self.play_width]\n",
    "        # Combine\n",
    "        concat_img = np.concatenate([left, right], axis=1)  #\n",
    "        fn = self.save_file(concat_img, img_name.split('/')[-1], self.play_path, 'bottom')\n",
    "        return fn\n",
    "\n",
    "\n",
    "    def save_file(self, item, filename, save_path, kind):\n",
    "        filename = filename.lstrip('saved_frames/')\n",
    "        save_filename = f'{save_path}/{filename.rstrip(\".jpg\")}-{kind}.jpg'\n",
    "        cv2.imwrite(save_filename, item)\n",
    "        return save_filename"
   ]
  },
  {
   "cell_type": "markdown",
   "metadata": {},
   "source": [
    "## Using ImageCropper"
   ]
  },
  {
   "cell_type": "code",
   "execution_count": 51,
   "metadata": {},
   "outputs": [],
   "source": [
    "cropper = ImageCropper()\n",
    "\n",
    "test_dir = 'image_data/test/raw_caps'\n",
    "files = os.listdir(test_dir)\n",
    "files = [os.path.join(test_dir, f) for f in files if f.endswith('.jpg')]"
   ]
  },
  {
   "cell_type": "code",
   "execution_count": 52,
   "metadata": {},
   "outputs": [],
   "source": [
    "cropped_plays = [cropper.crop_image_play(f) for f in files]"
   ]
  },
  {
   "cell_type": "code",
   "execution_count": 53,
   "metadata": {
    "collapsed": true
   },
   "outputs": [],
   "source": [
    "cropped_tops = [cropper.crop_image_top(f) for f in files]"
   ]
  },
  {
   "cell_type": "code",
   "execution_count": null,
   "metadata": {},
   "outputs": [],
   "source": []
  },
  {
   "cell_type": "code",
   "execution_count": 67,
   "metadata": {
    "collapsed": true
   },
   "outputs": [],
   "source": [
    "def construct_test_dataset(test_dir):\n",
    "    filenames = []\n",
    "    for root, dirs, files in os.walk(test_dir, topdown=True):\n",
    "            for name in files:\n",
    "                filenames.append(os.path.join(root, name))\n",
    "\n",
    "\n",
    "    filenames = [f for f in filenames if 'DS_Store' not in f]\n",
    "    df = pd.DataFrame({'filename': filenames})\n",
    "    df.reset_index(drop=True, inplace=True)\n",
    "\n",
    "    fn = f'csv/test_data_{test_dir.split(\"/\")[-1]}.csv'\n",
    "    df.to_csv(fn)\n",
    "    return fn"
   ]
  },
  {
   "cell_type": "code",
   "execution_count": 70,
   "metadata": {},
   "outputs": [],
   "source": [
    "side_dir = 'image_data/test/saved_plays'\n",
    "fn = construct_test_dataset(side_dir)"
   ]
  },
  {
   "cell_type": "code",
   "execution_count": 71,
   "metadata": {},
   "outputs": [
    {
     "data": {
      "text/html": [
       "<div>\n",
       "<style scoped>\n",
       "    .dataframe tbody tr th:only-of-type {\n",
       "        vertical-align: middle;\n",
       "    }\n",
       "\n",
       "    .dataframe tbody tr th {\n",
       "        vertical-align: top;\n",
       "    }\n",
       "\n",
       "    .dataframe thead th {\n",
       "        text-align: right;\n",
       "    }\n",
       "</style>\n",
       "<table border=\"1\" class=\"dataframe\">\n",
       "  <thead>\n",
       "    <tr style=\"text-align: right;\">\n",
       "      <th></th>\n",
       "      <th>filename</th>\n",
       "    </tr>\n",
       "  </thead>\n",
       "  <tbody>\n",
       "    <tr>\n",
       "      <th>0</th>\n",
       "      <td>image_data/test/saved_plays/Madden NFL 19_2019...</td>\n",
       "    </tr>\n",
       "    <tr>\n",
       "      <th>1</th>\n",
       "      <td>image_data/test/saved_plays/Madden NFL 19_2018...</td>\n",
       "    </tr>\n",
       "    <tr>\n",
       "      <th>2</th>\n",
       "      <td>image_data/test/saved_plays/Madden NFL 19_2019...</td>\n",
       "    </tr>\n",
       "    <tr>\n",
       "      <th>3</th>\n",
       "      <td>image_data/test/saved_plays/Madden NFL 19_2019...</td>\n",
       "    </tr>\n",
       "    <tr>\n",
       "      <th>4</th>\n",
       "      <td>image_data/test/saved_plays/Madden NFL 19_2019...</td>\n",
       "    </tr>\n",
       "  </tbody>\n",
       "</table>\n",
       "</div>"
      ],
      "text/plain": [
       "                                            filename\n",
       "0  image_data/test/saved_plays/Madden NFL 19_2019...\n",
       "1  image_data/test/saved_plays/Madden NFL 19_2018...\n",
       "2  image_data/test/saved_plays/Madden NFL 19_2019...\n",
       "3  image_data/test/saved_plays/Madden NFL 19_2019...\n",
       "4  image_data/test/saved_plays/Madden NFL 19_2019..."
      ]
     },
     "execution_count": 71,
     "metadata": {},
     "output_type": "execute_result"
    }
   ],
   "source": [
    "df = pd.read_csv(fn, index_col=0)\n",
    "df.head()"
   ]
  },
  {
   "cell_type": "code",
   "execution_count": null,
   "metadata": {
    "collapsed": true
   },
   "outputs": [],
   "source": []
  }
 ],
 "metadata": {
  "kernelspec": {
   "display_name": "Python 3",
   "language": "python",
   "name": "python3"
  },
  "language_info": {
   "codemirror_mode": {
    "name": "ipython",
    "version": 3
   },
   "file_extension": ".py",
   "mimetype": "text/x-python",
   "name": "python",
   "nbconvert_exporter": "python",
   "pygments_lexer": "ipython3",
   "version": "3.6.3"
  }
 },
 "nbformat": 4,
 "nbformat_minor": 2
}
